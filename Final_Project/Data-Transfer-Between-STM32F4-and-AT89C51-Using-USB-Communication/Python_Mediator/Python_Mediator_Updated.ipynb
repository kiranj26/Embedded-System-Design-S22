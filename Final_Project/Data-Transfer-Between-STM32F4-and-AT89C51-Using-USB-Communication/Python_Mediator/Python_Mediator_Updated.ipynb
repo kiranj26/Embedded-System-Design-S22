{
 "cells": [
  {
   "cell_type": "code",
   "execution_count": null,
   "id": "ee7e4f97",
   "metadata": {},
   "outputs": [],
   "source": [
    "print(\"Hello AT89C51RC2 !\")\n",
    "\n",
    "import serial\n",
    "\n",
    "# Initialize serial objects for COM10 and COM9\n",
    "ser10 = serial.Serial('COM10', 9600, timeout=1)\n",
    "ser9 = serial.Serial('COM9', 9600, timeout=1)\n",
    "\n",
    "if ser10.isOpen():\n",
    "    print(\"Serial port COM10 is open.\")\n",
    "else:\n",
    "    print(\"Serial port COM10 is not open.\")\n",
    "\n",
    "if ser9.isOpen():\n",
    "    print(\"Serial port COM9 is open.\")\n",
    "else:\n",
    "    print(\"Serial port COM9 is not open.\")\n",
    "\n",
    "while True:\n",
    "    data = ser10.readline().decode().rstrip()\n",
    "    if data:\n",
    "        print(data)\n",
    "        # Send received data to COM9\n",
    "        if \"FPS Enroll Passed\" in data:\n",
    "            ser9.write(\"A\".encode())\n",
    "        elif \"FPS Search Passed\" in data:\n",
    "            ser9.write(\"B\".encode())\n",
    "        elif \"FPS Search Failed\" in data:\n",
    "            ser9.write(\"C\".encode())\n",
    "        elif \"FPS Database Cleared\" in data:\n",
    "            ser9.write(\"D\".encode())\n",
    "        else:\n",
    "            ser9.write(\"Z\".encode()) # If none of the above conditions are satisfied, send \"Z\" command\n",
    "        \n",
    "\n",
    "if ser10.isOpen():\n",
    "    ser10.close()\n",
    "    print(\"Serial port COM10 is closed.\")\n",
    "if ser9.isOpen():\n",
    "    ser9.close()\n",
    "    print(\"Serial port COM9 is closed.\")\n"
   ]
  }
 ],
 "metadata": {
  "kernelspec": {
   "display_name": "Python 3 (ipykernel)",
   "language": "python",
   "name": "python3"
  },
  "language_info": {
   "codemirror_mode": {
    "name": "ipython",
    "version": 3
   },
   "file_extension": ".py",
   "mimetype": "text/x-python",
   "name": "python",
   "nbconvert_exporter": "python",
   "pygments_lexer": "ipython3",
   "version": "3.9.12"
  }
 },
 "nbformat": 4,
 "nbformat_minor": 5
}
